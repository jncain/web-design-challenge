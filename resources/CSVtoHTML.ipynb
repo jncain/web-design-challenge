{
 "cells": [
  {
   "cell_type": "code",
   "execution_count": 1,
   "metadata": {},
   "outputs": [],
   "source": [
    "import pandas as pd"
   ]
  },
  {
   "cell_type": "code",
   "execution_count": 11,
   "metadata": {},
   "outputs": [],
   "source": [
    "file = \"NAEPData.csv\""
   ]
  },
  {
   "cell_type": "code",
   "execution_count": 12,
   "metadata": {},
   "outputs": [
    {
     "data": {
      "text/html": [
       "<div>\n",
       "<style scoped>\n",
       "    .dataframe tbody tr th:only-of-type {\n",
       "        vertical-align: middle;\n",
       "    }\n",
       "\n",
       "    .dataframe tbody tr th {\n",
       "        vertical-align: top;\n",
       "    }\n",
       "\n",
       "    .dataframe thead th {\n",
       "        text-align: right;\n",
       "    }\n",
       "</style>\n",
       "<table border=\"1\" class=\"dataframe\">\n",
       "  <thead>\n",
       "    <tr style=\"text-align: right;\">\n",
       "      <th></th>\n",
       "      <th>Subject</th>\n",
       "      <th>Grade</th>\n",
       "      <th>Year</th>\n",
       "      <th>Jurisdiction</th>\n",
       "      <th>atabPro</th>\n",
       "    </tr>\n",
       "  </thead>\n",
       "  <tbody>\n",
       "    <tr>\n",
       "      <th>0</th>\n",
       "      <td>Mathematics</td>\n",
       "      <td>4</td>\n",
       "      <td>2003</td>\n",
       "      <td>Minnesota</td>\n",
       "      <td>41.767158</td>\n",
       "    </tr>\n",
       "    <tr>\n",
       "      <th>1</th>\n",
       "      <td>Mathematics</td>\n",
       "      <td>4</td>\n",
       "      <td>2005</td>\n",
       "      <td>Minnesota</td>\n",
       "      <td>47.256978</td>\n",
       "    </tr>\n",
       "    <tr>\n",
       "      <th>2</th>\n",
       "      <td>Mathematics</td>\n",
       "      <td>4</td>\n",
       "      <td>2007</td>\n",
       "      <td>Minnesota</td>\n",
       "      <td>50.589193</td>\n",
       "    </tr>\n",
       "    <tr>\n",
       "      <th>3</th>\n",
       "      <td>Mathematics</td>\n",
       "      <td>4</td>\n",
       "      <td>2009</td>\n",
       "      <td>Minnesota</td>\n",
       "      <td>53.822130</td>\n",
       "    </tr>\n",
       "    <tr>\n",
       "      <th>4</th>\n",
       "      <td>Mathematics</td>\n",
       "      <td>4</td>\n",
       "      <td>2011</td>\n",
       "      <td>Minnesota</td>\n",
       "      <td>52.933926</td>\n",
       "    </tr>\n",
       "  </tbody>\n",
       "</table>\n",
       "</div>"
      ],
      "text/plain": [
       "       Subject  Grade  Year Jurisdiction    atabPro\n",
       "0  Mathematics      4  2003    Minnesota  41.767158\n",
       "1  Mathematics      4  2005    Minnesota  47.256978\n",
       "2  Mathematics      4  2007    Minnesota  50.589193\n",
       "3  Mathematics      4  2009    Minnesota  53.822130\n",
       "4  Mathematics      4  2011    Minnesota  52.933926"
      ]
     },
     "execution_count": 12,
     "metadata": {},
     "output_type": "execute_result"
    }
   ],
   "source": [
    "naepdata = pd.read_csv(file)\n",
    "naepdata.head()"
   ]
  },
  {
   "cell_type": "code",
   "execution_count": 13,
   "metadata": {},
   "outputs": [
    {
     "data": {
      "text/html": [
       "<div>\n",
       "<style scoped>\n",
       "    .dataframe tbody tr th:only-of-type {\n",
       "        vertical-align: middle;\n",
       "    }\n",
       "\n",
       "    .dataframe tbody tr th {\n",
       "        vertical-align: top;\n",
       "    }\n",
       "\n",
       "    .dataframe thead th {\n",
       "        text-align: right;\n",
       "    }\n",
       "</style>\n",
       "<table border=\"1\" class=\"dataframe\">\n",
       "  <thead>\n",
       "    <tr style=\"text-align: right;\">\n",
       "      <th></th>\n",
       "      <th>Subject</th>\n",
       "      <th>Grade</th>\n",
       "      <th>Year</th>\n",
       "      <th>Jurisdiction</th>\n",
       "      <th>At or Above Proficient</th>\n",
       "    </tr>\n",
       "  </thead>\n",
       "  <tbody>\n",
       "    <tr>\n",
       "      <th>0</th>\n",
       "      <td>Mathematics</td>\n",
       "      <td>4</td>\n",
       "      <td>2003</td>\n",
       "      <td>Minnesota</td>\n",
       "      <td>41.77%</td>\n",
       "    </tr>\n",
       "    <tr>\n",
       "      <th>1</th>\n",
       "      <td>Mathematics</td>\n",
       "      <td>4</td>\n",
       "      <td>2005</td>\n",
       "      <td>Minnesota</td>\n",
       "      <td>47.26%</td>\n",
       "    </tr>\n",
       "    <tr>\n",
       "      <th>2</th>\n",
       "      <td>Mathematics</td>\n",
       "      <td>4</td>\n",
       "      <td>2007</td>\n",
       "      <td>Minnesota</td>\n",
       "      <td>50.59%</td>\n",
       "    </tr>\n",
       "    <tr>\n",
       "      <th>3</th>\n",
       "      <td>Mathematics</td>\n",
       "      <td>4</td>\n",
       "      <td>2009</td>\n",
       "      <td>Minnesota</td>\n",
       "      <td>53.82%</td>\n",
       "    </tr>\n",
       "    <tr>\n",
       "      <th>4</th>\n",
       "      <td>Mathematics</td>\n",
       "      <td>4</td>\n",
       "      <td>2011</td>\n",
       "      <td>Minnesota</td>\n",
       "      <td>52.93%</td>\n",
       "    </tr>\n",
       "  </tbody>\n",
       "</table>\n",
       "</div>"
      ],
      "text/plain": [
       "       Subject  Grade  Year Jurisdiction At or Above Proficient\n",
       "0  Mathematics      4  2003    Minnesota                 41.77%\n",
       "1  Mathematics      4  2005    Minnesota                 47.26%\n",
       "2  Mathematics      4  2007    Minnesota                 50.59%\n",
       "3  Mathematics      4  2009    Minnesota                 53.82%\n",
       "4  Mathematics      4  2011    Minnesota                 52.93%"
      ]
     },
     "execution_count": 13,
     "metadata": {},
     "output_type": "execute_result"
    }
   ],
   "source": [
    "naep_db = naepdata.rename(columns={\"atabPro\": \"At or Above Proficient\"})\n",
    "naep_db[\"At or Above Proficient\"]=naep_db[\"At or Above Proficient\"].map(\"{:.2f}%\".format)\n",
    "naep_db.head()"
   ]
  },
  {
   "cell_type": "code",
   "execution_count": 19,
   "metadata": {},
   "outputs": [],
   "source": [
    "naep_db.to_html(\"NAEPData.html\", header=True, index=False, justify=\"center\")"
   ]
  }
 ],
 "metadata": {
  "kernelspec": {
   "display_name": "Python 3",
   "language": "python",
   "name": "python3"
  },
  "language_info": {
   "codemirror_mode": {
    "name": "ipython",
    "version": 3
   },
   "file_extension": ".py",
   "mimetype": "text/x-python",
   "name": "python",
   "nbconvert_exporter": "python",
   "pygments_lexer": "ipython3",
   "version": "3.6.9"
  }
 },
 "nbformat": 4,
 "nbformat_minor": 2
}
